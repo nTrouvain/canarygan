{
 "cells": [
  {
   "cell_type": "code",
   "execution_count": 3,
   "metadata": {},
   "outputs": [],
   "source": [
    "import json\n",
    "from pathlib import Path\n",
    "\n",
    "import numpy as np\n",
    "import pandas as pd\n",
    "from reservoirpy.nodes import Reservoir, Ridge, ESN"
   ]
  },
  {
   "cell_type": "code",
   "execution_count": 4,
   "metadata": {},
   "outputs": [
    {
     "data": {
      "text/plain": [
       "[PosixPath('../../canary-decoder/canarydecoder/decoding/models/021220-1e'),\n",
       " PosixPath('../../canary-decoder/canarydecoder/decoding/models/021220-1e-balanced'),\n",
       " PosixPath('../../canary-decoder/canarydecoder/decoding/models/021220-8e'),\n",
       " PosixPath('../../canary-decoder/canarydecoder/decoding/models/021220-8e-balanced'),\n",
       " PosixPath('../../canary-decoder/canarydecoder/decoding/models/canary16'),\n",
       " PosixPath('../../canary-decoder/canarydecoder/decoding/models/canary16-clean-d'),\n",
       " PosixPath('../../canary-decoder/canarydecoder/decoding/models/canary16-clean-d-notrim'),\n",
       " PosixPath('../../canary-decoder/canarydecoder/decoding/models/canary16-deltas'),\n",
       " PosixPath('../../canary-decoder/canarydecoder/decoding/models/canary16-filtered'),\n",
       " PosixPath('../../canary-decoder/canarydecoder/decoding/models/canary16-filtered-notrim'),\n",
       " PosixPath('../../canary-decoder/canarydecoder/decoding/models/canarygan-1120'),\n",
       " PosixPath('../../canary-decoder/canarydecoder/decoding/models/canarygan-1120-d'),\n",
       " PosixPath('../../canary-decoder/canarydecoder/decoding/models/canarygan-2255'),\n",
       " PosixPath('../../canary-decoder/canarydecoder/decoding/models/canarygan-2255-d'),\n",
       " PosixPath('../../canary-decoder/canarydecoder/decoding/models/canarygan-2e-ot-noise'),\n",
       " PosixPath('../../canary-decoder/canarydecoder/decoding/models/canarygan-3'),\n",
       " PosixPath('../../canary-decoder/canarydecoder/decoding/models/canarygan-3-d'),\n",
       " PosixPath('../../canary-decoder/canarydecoder/decoding/models/canarygan-8e-ot-noise'),\n",
       " PosixPath('../../canary-decoder/canarydecoder/decoding/models/canarygan-8e-ot-noise-v2'),\n",
       " PosixPath('../../canary-decoder/canarydecoder/decoding/models/canarygan-clean-e-ot-noise'),\n",
       " PosixPath('../../canary-decoder/canarydecoder/decoding/models/canarygan-clean-e-ot-noise-notrim'),\n",
       " PosixPath('../../canary-decoder/canarydecoder/decoding/models/canarygan-e-ot-noise'),\n",
       " PosixPath('../../canary-decoder/canarydecoder/decoding/models/canarygan-f-3e-ot-noise'),\n",
       " PosixPath('../../canary-decoder/canarydecoder/decoding/models/canarygan-f-3e-ot-noise-notrim')]"
      ]
     },
     "execution_count": 4,
     "metadata": {},
     "output_type": "execute_result"
    }
   ],
   "source": [
    "models = Path(\"../../canary-decoder/canarydecoder/decoding/models/\")\n",
    "models = [m for m in sorted(models.glob(\"*\")) if m.is_dir()]\n",
    "models"
   ]
  },
  {
   "cell_type": "code",
   "execution_count": 5,
   "metadata": {},
   "outputs": [
    {
     "name": "stdout",
     "output_type": "stream",
     "text": [
      "No vocab in ../../canary-decoder/canarydecoder/decoding/models/canary16-clean-d-notrim\n"
     ]
    }
   ],
   "source": [
    "model_data = {\n",
    "    \"name\": [],\n",
    "    \"vocab\": [],\n",
    "    \"esn\": [],\n",
    "    \"config\": [],\n",
    "    \"w\": [],\n",
    "    \"win\": [],\n",
    "    \"wout\": [],\n",
    "}\n",
    "for m in models:\n",
    "    model_data[\"name\"] += [m.name]\n",
    "    model_data[\"w\"] += [np.load(list(m.glob(\"esn-W-*\"))[0])]\n",
    "    model_data[\"win\"] += [np.load(list(m.glob(\"esn-Win-*\"))[0])]\n",
    "    model_data[\"wout\"] += [np.load(list(m.glob(\"esn-Wout-*\"))[0])]\n",
    "\n",
    "    if len(list(m.glob(\"*vocab*\"))) == 0:\n",
    "        print(\"No vocab in\", m)\n",
    "        model_data[\"vocab\"] += [np.array([np.nan])]\n",
    "    else:\n",
    "        model_data[\"vocab\"] += [np.load(list(m.glob(\"*vocab*\"))[0])]\n",
    "\n",
    "    with open(m / \"config.json\", \"r\") as fp:\n",
    "        model_data[\"config\"] += [json.load(fp)]\n",
    "\n",
    "    with open(m / \"esn.json\", \"r\") as fp:\n",
    "        model_data[\"esn\"] += [json.load(fp)]\n"
   ]
  },
  {
   "cell_type": "code",
   "execution_count": 6,
   "metadata": {},
   "outputs": [
    {
     "name": "stdout",
     "output_type": "stream",
     "text": [
      "021220-1e\n",
      "['A' 'B1' 'B2' 'C' 'D' 'E' 'EARLY' 'H' 'J1' 'J2' 'L' 'M' 'N' 'O' 'OT' 'Q'\n",
      " 'R' 'V' 'WN']\n",
      "021220-1e-balanced\n",
      "['A' 'B1' 'B2' 'C' 'D' 'E' 'EARLY' 'H' 'J1' 'J2' 'L' 'M' 'N' 'O' 'OT' 'Q'\n",
      " 'R' 'V' 'WN']\n",
      "021220-8e\n",
      "['A' 'B1' 'B2' 'C' 'D' 'E' 'EARLY15_1' 'EARLY15_2' 'EARLY15_3' 'EARLY15_4'\n",
      " 'EARLY30_1' 'EARLY30_2' 'EARLY30_3' 'EARLY30_4' 'H' 'J1' 'J2' 'L' 'M' 'N'\n",
      " 'O' 'OT' 'Q' 'R' 'V' 'WN']\n",
      "021220-8e-balanced\n",
      "['A' 'B1' 'B2' 'C' 'D' 'E' 'EARLY15_1' 'EARLY15_2' 'EARLY15_3' 'EARLY15_4'\n",
      " 'EARLY30_1' 'EARLY30_2' 'EARLY30_3' 'EARLY30_4' 'H' 'J1' 'J2' 'L' 'M' 'N'\n",
      " 'O' 'OT' 'Q' 'R' 'V' 'WN']\n",
      "canary16\n",
      "['A' 'B1' 'B2' 'C' 'D' 'E' 'H' 'J1' 'J2' 'L' 'M' 'N' 'O' 'Q' 'R' 'V']\n",
      "canary16-clean-d\n",
      "['A' 'B1' 'B2' 'C' 'D' 'E' 'H' 'J1' 'J2' 'L' 'M' 'N' 'O' 'Q' 'R' 'V']\n",
      "canary16-clean-d-notrim\n",
      "[nan]\n",
      "canary16-deltas\n",
      "['A' 'B1' 'B2' 'C' 'D' 'E' 'H' 'J1' 'J2' 'L' 'M' 'N' 'O' 'Q' 'R' 'V']\n",
      "canary16-filtered\n",
      "['A' 'B1' 'B2' 'C' 'D' 'E' 'H' 'J1' 'J2' 'L' 'M' 'N' 'O' 'Q' 'R' 'V']\n",
      "canary16-filtered-notrim\n",
      "['A' 'B1' 'B2' 'C' 'D' 'E' 'H' 'J1' 'J2' 'L' 'M' 'N' 'O' 'Q' 'R' 'V']\n",
      "canarygan-1120\n",
      "['A' 'B1' 'B2' 'C' 'D' 'E' 'GAN' 'H' 'J1' 'J2' 'L' 'M' 'N' 'O' 'Q' 'R' 'V']\n",
      "canarygan-1120-d\n",
      "['A' 'B1' 'B2' 'C' 'D' 'E' 'GAN' 'H' 'J1' 'J2' 'L' 'M' 'N' 'O' 'Q' 'R' 'V']\n",
      "canarygan-2255\n",
      "['A' 'B1' 'B2' 'C' 'D' 'E' 'GAN' 'H' 'J1' 'J2' 'L' 'M' 'N' 'O' 'Q' 'R' 'V']\n",
      "canarygan-2255-d\n",
      "['A' 'B1' 'B2' 'C' 'D' 'E' 'GAN' 'H' 'J1' 'J2' 'L' 'M' 'N' 'O' 'Q' 'R' 'V']\n",
      "canarygan-2e-ot-noise\n",
      "['A' 'B1' 'B2' 'C' 'D' 'E' 'EARLY15' 'EARLY30' 'H' 'J1' 'J2' 'L' 'M' 'N'\n",
      " 'O' 'OT' 'Q' 'R' 'V' 'WN']\n",
      "canarygan-3\n",
      "['A' 'B1' 'B2' 'C' 'D' 'E' 'GAN1' 'GAN2' 'GAN3' 'H' 'J1' 'J2' 'L' 'M' 'N'\n",
      " 'O' 'Q' 'R' 'V']\n",
      "canarygan-3-d\n",
      "['A' 'B1' 'B2' 'C' 'D' 'E' 'GAN1' 'GAN2' 'GAN3' 'H' 'J1' 'J2' 'L' 'M' 'N'\n",
      " 'O' 'Q' 'R' 'V']\n",
      "canarygan-8e-ot-noise\n",
      "['A' 'B1' 'B2' 'C' 'D' 'E' 'EARLY15_1' 'EARLY15_2' 'EARLY15_3' 'EARLY15_4'\n",
      " 'EARLY30_1' 'EARLY30_2' 'EARLY30_3' 'EARLY30_4' 'H' 'J1' 'J2' 'L' 'M' 'N'\n",
      " 'O' 'OT' 'Q' 'R' 'V' 'WN']\n",
      "canarygan-8e-ot-noise-v2\n",
      "['A' 'B1' 'B2' 'C' 'D' 'E' 'EARLY15_1' 'EARLY15_2' 'EARLY15_3' 'EARLY15_4'\n",
      " 'EARLY30_1' 'EARLY30_2' 'EARLY30_3' 'EARLY30_4' 'H' 'J1' 'J2' 'L' 'M' 'N'\n",
      " 'O' 'OT' 'Q' 'R' 'V' 'WN']\n",
      "canarygan-clean-e-ot-noise\n",
      "['A' 'B1' 'B2' 'C' 'D' 'E' 'EARLY' 'H' 'J1' 'J2' 'L' 'M' 'N' 'O' 'OT' 'Q'\n",
      " 'R' 'V' 'WN']\n",
      "canarygan-clean-e-ot-noise-notrim\n",
      "['A' 'B1' 'B2' 'C' 'D' 'E' 'EARLY' 'H' 'J1' 'J2' 'L' 'M' 'N' 'O' 'OT' 'Q'\n",
      " 'R' 'V' 'WN']\n",
      "canarygan-e-ot-noise\n",
      "['A' 'B1' 'B2' 'C' 'D' 'E' 'EARLY' 'H' 'J1' 'J2' 'L' 'M' 'N' 'O' 'OT' 'Q'\n",
      " 'R' 'V' 'WN']\n",
      "canarygan-f-3e-ot-noise\n",
      "['A' 'B1' 'B2' 'C' 'D' 'E' 'EARLY15' 'EARLY30' 'EARLY45' 'H' 'J1' 'J2' 'L'\n",
      " 'M' 'N' 'O' 'OT' 'Q' 'R' 'V' 'WN']\n",
      "canarygan-f-3e-ot-noise-notrim\n",
      "['A' 'B1' 'B2' 'C' 'D' 'E' 'EARLY15' 'EARLY30' 'EARLY45' 'H' 'J1' 'J2' 'L'\n",
      " 'M' 'N' 'O' 'OT' 'Q' 'R' 'V' 'WN']\n"
     ]
    }
   ],
   "source": [
    "for m, voc in zip(model_data[\"name\"], model_data[\"vocab\"]):\n",
    "    print(m)\n",
    "    print(voc)"
   ]
  },
  {
   "cell_type": "code",
   "execution_count": 7,
   "metadata": {},
   "outputs": [
    {
     "data": {
      "text/plain": [
       "{'name': 'canarygan-f-3e-ot-noise-notrim',\n",
       " 'vocab': array(['A', 'B1', 'B2', 'C', 'D', 'E', 'EARLY15', 'EARLY30', 'EARLY45',\n",
       "        'H', 'J1', 'J2', 'L', 'M', 'N', 'O', 'OT', 'Q', 'R', 'V', 'WN'],\n",
       "       dtype='<U7'),\n",
       " 'esn': {'cls': 'ESN',\n",
       "  'cls_bin': 'cls_bin-1603185220.2309413',\n",
       "  'version': '0.2.0',\n",
       "  'serial': 1603185220.2309413,\n",
       "  'attr': {'W': 'esn-W-1603185220.2309413.npy',\n",
       "   'Win': 'esn-Win-1603185220.2309413.npy',\n",
       "   'Wfb': None,\n",
       "   'Wout': 'esn-Wout-1603185220.2309413.npy',\n",
       "   'N': 1000,\n",
       "   'lr': 0.05,\n",
       "   'in_bias': True,\n",
       "   'dim_inp': 41,\n",
       "   'dim_out': 21,\n",
       "   'typefloat': 'float64',\n",
       "   'reg_model': {'type': 'ridge', 'coef': 1e-08},\n",
       "   'fbfunc': None},\n",
       "  'misc': {'fbfunc_info': None}},\n",
       " 'config': {'preprocessing': {'sampling_rate': 16000,\n",
       "   'hop_length': 512,\n",
       "   'n_fft': 1024,\n",
       "   'padding': 'wrap',\n",
       "   'trim_below_db': 0,\n",
       "   'lifter': 0},\n",
       "  'inputs': {'continuous': False,\n",
       "   'mfcc': False,\n",
       "   'delta1': True,\n",
       "   'delta2': True}},\n",
       " 'w': array([[ 0.        ,  0.        ,  0.        , ...,  0.05800176,\n",
       "         -0.        , -0.        ],\n",
       "        [ 0.        , -0.        , -0.        , ..., -0.        ,\n",
       "         -0.        ,  0.03921509],\n",
       "        [-0.        , -0.        , -0.        , ..., -0.        ,\n",
       "          0.        , -0.        ],\n",
       "        ...,\n",
       "        [-0.        ,  0.        , -0.        , ..., -0.        ,\n",
       "          0.        ,  0.        ],\n",
       "        [-0.        , -0.        , -0.        , ...,  0.00043608,\n",
       "          0.        ,  0.        ],\n",
       "        [ 0.        ,  0.        ,  0.        , ...,  0.        ,\n",
       "          0.        , -0.        ]]),\n",
       " 'win': array([[ 0. ,  0. ,  0. , ..., -0. ,  0.7,  0. ],\n",
       "        [ 0. , -0. ,  0. , ...,  0. , -0. , -0. ],\n",
       "        [-0. , -0. , -0. , ..., -0. ,  0. ,  0. ],\n",
       "        ...,\n",
       "        [-0. , -0. ,  0. , ..., -0. , -0. ,  0. ],\n",
       "        [-0. ,  0. ,  0. , ...,  0. ,  0. ,  0. ],\n",
       "        [ 1. , -0. , -1. , ...,  0. ,  0. ,  0. ]]),\n",
       " 'wout': array([[ 0.05198987,  0.04345769,  0.11401825, ..., -0.03344773,\n",
       "          0.18893416, -0.04906444],\n",
       "        [ 0.05477778, -0.07750347,  0.05131515, ...,  0.0158769 ,\n",
       "         -0.11613523, -0.10140457],\n",
       "        [ 0.026127  ,  0.01909524, -0.10273687, ..., -0.00907618,\n",
       "         -0.11931879,  0.01059771],\n",
       "        ...,\n",
       "        [ 0.05115792,  0.06037592,  0.02920299, ..., -0.16340123,\n",
       "          0.03579388,  0.02916903],\n",
       "        [ 0.01622932, -0.06211697,  0.10090997, ...,  0.19808171,\n",
       "          0.03436251, -0.00747715],\n",
       "        [ 0.21324677, -0.06337169, -0.20512395, ...,  0.10948942,\n",
       "         -0.04917078, -0.0158312 ]])}"
      ]
     },
     "execution_count": 7,
     "metadata": {},
     "output_type": "execute_result"
    }
   ],
   "source": [
    "complete = \"canarygan-f-3e-ot-noise-notrim\"\n",
    "complete_model = pd.DataFrame(model_data).query(\"name==@complete\").to_dict(orient=\"records\")[0]\n",
    "complete_model"
   ]
  },
  {
   "cell_type": "code",
   "execution_count": 8,
   "metadata": {},
   "outputs": [],
   "source": [
    "vocab = complete_model[\"vocab\"]"
   ]
  },
  {
   "cell_type": "code",
   "execution_count": 9,
   "metadata": {},
   "outputs": [
    {
     "data": {
      "text/plain": [
       "array(['A', 'B1', 'B2', 'C', 'D', 'E', 'EARLY15', 'EARLY30', 'EARLY45',\n",
       "       'H', 'J1', 'J2', 'L', 'M', 'N', 'O', 'OT', 'Q', 'R', 'V', 'WN'],\n",
       "      dtype='<U7')"
      ]
     },
     "execution_count": 9,
     "metadata": {},
     "output_type": "execute_result"
    }
   ],
   "source": [
    "complete_model[\"vocab\"]"
   ]
  },
  {
   "cell_type": "code",
   "execution_count": 10,
   "metadata": {},
   "outputs": [
    {
     "data": {
      "text/plain": [
       "{'preprocessing': {'sampling_rate': 16000,\n",
       "  'hop_length': 512,\n",
       "  'n_fft': 1024,\n",
       "  'padding': 'wrap',\n",
       "  'trim_below_db': 0,\n",
       "  'lifter': 0},\n",
       " 'inputs': {'continuous': False,\n",
       "  'mfcc': False,\n",
       "  'delta1': True,\n",
       "  'delta2': True}}"
      ]
     },
     "execution_count": 10,
     "metadata": {},
     "output_type": "execute_result"
    }
   ],
   "source": [
    "complete_model[\"config\"]"
   ]
  },
  {
   "cell_type": "code",
   "execution_count": 11,
   "metadata": {},
   "outputs": [
    {
     "data": {
      "text/plain": [
       "{'cls': 'ESN',\n",
       " 'cls_bin': 'cls_bin-1603185220.2309413',\n",
       " 'version': '0.2.0',\n",
       " 'serial': 1603185220.2309413,\n",
       " 'attr': {'W': 'esn-W-1603185220.2309413.npy',\n",
       "  'Win': 'esn-Win-1603185220.2309413.npy',\n",
       "  'Wfb': None,\n",
       "  'Wout': 'esn-Wout-1603185220.2309413.npy',\n",
       "  'N': 1000,\n",
       "  'lr': 0.05,\n",
       "  'in_bias': True,\n",
       "  'dim_inp': 41,\n",
       "  'dim_out': 21,\n",
       "  'typefloat': 'float64',\n",
       "  'reg_model': {'type': 'ridge', 'coef': 1e-08},\n",
       "  'fbfunc': None},\n",
       " 'misc': {'fbfunc_info': None}}"
      ]
     },
     "execution_count": 11,
     "metadata": {},
     "output_type": "execute_result"
    }
   ],
   "source": [
    "complete_model[\"esn\"]"
   ]
  },
  {
   "cell_type": "code",
   "execution_count": 12,
   "metadata": {},
   "outputs": [
    {
     "data": {
      "text/plain": [
       "(1000, 1000)"
      ]
     },
     "execution_count": 12,
     "metadata": {},
     "output_type": "execute_result"
    }
   ],
   "source": [
    "complete_model[\"w\"].shape"
   ]
  },
  {
   "cell_type": "code",
   "execution_count": 13,
   "metadata": {},
   "outputs": [
    {
     "data": {
      "text/plain": [
       "array([[ 0. ,  0. ,  0. , ..., -0. ,  0.7,  0. ],\n",
       "       [ 0. , -0. ,  0. , ...,  0. , -0. , -0. ],\n",
       "       [-0. , -0. , -0. , ..., -0. ,  0. ,  0. ],\n",
       "       ...,\n",
       "       [-0. , -0. ,  0. , ..., -0. , -0. ,  0. ],\n",
       "       [-0. ,  0. ,  0. , ...,  0. ,  0. ,  0. ],\n",
       "       [ 1. , -0. , -1. , ...,  0. ,  0. ,  0. ]])"
      ]
     },
     "execution_count": 13,
     "metadata": {},
     "output_type": "execute_result"
    }
   ],
   "source": [
    "complete_model[\"win\"]"
   ]
  },
  {
   "cell_type": "code",
   "execution_count": 14,
   "metadata": {},
   "outputs": [
    {
     "data": {
      "text/plain": [
       "(21, 1001)"
      ]
     },
     "execution_count": 14,
     "metadata": {},
     "output_type": "execute_result"
    }
   ],
   "source": [
    "complete_model[\"wout\"].shape"
   ]
  },
  {
   "cell_type": "code",
   "execution_count": 15,
   "metadata": {},
   "outputs": [],
   "source": [
    "bias = complete_model[\"win\"][:, :1]\n",
    "win = complete_model[\"win\"][:, 1:]\n",
    "w = complete_model[\"w\"]\n",
    "wout_bias = complete_model[\"wout\"][:, :1].T\n",
    "wout = complete_model[\"wout\"][:, 1:].T\n",
    "lr = complete_model[\"esn\"][\"attr\"][\"lr\"]\n",
    "in_dim=complete_model[\"esn\"][\"attr\"][\"dim_inp\"] - 1\n",
    "out_dim=complete_model[\"esn\"][\"attr\"][\"dim_out\"]\n",
    "units=complete_model[\"esn\"][\"attr\"][\"N\"]"
   ]
  },
  {
   "cell_type": "code",
   "execution_count": 16,
   "metadata": {},
   "outputs": [],
   "source": [
    "reservoir = Reservoir(units=units, input_dim=in_dim, lr=0.05, W=w, Win=win, bias=bias).initialize()"
   ]
  },
  {
   "cell_type": "code",
   "execution_count": 17,
   "metadata": {},
   "outputs": [
    {
     "data": {
      "text/plain": [
       "'Ridge-0': Ridge(ridge=0.0, input_bias=True, in=1000, out=21)"
      ]
     },
     "execution_count": 17,
     "metadata": {},
     "output_type": "execute_result"
    }
   ],
   "source": [
    "readout = Ridge(Wout=wout, bias=wout_bias)\n",
    "readout.set_input_dim(units)\n",
    "readout.set_output_dim(out_dim)\n",
    "readout.initialize()"
   ]
  },
  {
   "cell_type": "code",
   "execution_count": 18,
   "metadata": {},
   "outputs": [],
   "source": [
    "esn = ESN(reservoir=reservoir, readout=readout, workers=-1)"
   ]
  },
  {
   "cell_type": "code",
   "execution_count": 19,
   "metadata": {},
   "outputs": [],
   "source": [
    "from dataset import DecoderDataset\n",
    "\n",
    "data_dir = Path(\"./data/decoder\")\n",
    "ckpt_dir = Path(\"../../data/decoder-preprocessed\")\n",
    "dataset = DecoderDataset.from_checkpoint(ckpt_dir)"
   ]
  },
  {
   "cell_type": "code",
   "execution_count": 20,
   "metadata": {},
   "outputs": [],
   "source": [
    "train_data, train_labels = dataset.train_data\n",
    "test_data, test_labels = dataset.test_data"
   ]
  },
  {
   "cell_type": "code",
   "execution_count": 21,
   "metadata": {},
   "outputs": [],
   "source": [
    "real_data = []\n",
    "real_labels = []\n",
    "for sample, label in zip(train_data, train_labels):\n",
    "    if label[0] not in ['A', 'B1', 'B2', 'C', 'D', 'E', 'H', 'J1', 'J2', 'L', 'M', 'N', 'O', 'Q', 'R', 'V']:\n",
    "        continue\n",
    "    else:\n",
    "        real_data.append(sample)\n",
    "        real_labels.append(label)\n",
    "\n",
    "for sample, label in zip(test_data, test_labels):\n",
    "    if label[0] not in ['A', 'B1', 'B2', 'C', 'D', 'E', 'H', 'J1', 'J2', 'L', 'M', 'N', 'O', 'Q', 'R', 'V']:\n",
    "        continue\n",
    "    else:\n",
    "        real_data.append(sample)\n",
    "        real_labels.append(label)"
   ]
  },
  {
   "cell_type": "code",
   "execution_count": 22,
   "metadata": {},
   "outputs": [],
   "source": [
    "x_real = [np.concatenate(x[1:], axis=1) for x in real_data]"
   ]
  },
  {
   "cell_type": "code",
   "execution_count": 21,
   "metadata": {},
   "outputs": [
    {
     "name": "stderr",
     "output_type": "stream",
     "text": [
      "Running ESN-0: 100%|██████████| 16000/16000 [02:07<00:00, 125.86it/s]\n"
     ]
    }
   ],
   "source": [
    "y_pred = esn.run(x_real)"
   ]
  },
  {
   "cell_type": "code",
   "execution_count": 95,
   "metadata": {},
   "outputs": [],
   "source": [
    "from scipy.special import softmax\n",
    "\n",
    "y_labels = [vocab[np.argmax(softmax(np.sum(y, axis=0)))] for y in y_pred]"
   ]
  },
  {
   "cell_type": "code",
   "execution_count": 96,
   "metadata": {},
   "outputs": [
    {
     "data": {
      "text/plain": [
       "<matplotlib.image.AxesImage at 0x7fc0a14f2bc0>"
      ]
     },
     "execution_count": 96,
     "metadata": {},
     "output_type": "execute_result"
    },
    {
     "data": {
      "image/png": "[encoded data removed]",
      "text/plain": [
       "<Figure size 640x480 with 1 Axes>"
      ]
     },
     "metadata": {},
     "output_type": "display_data"
    }
   ],
   "source": [
    "import matplotlib.pyplot as plt\n",
    "plt.imshow(y_pred[4].T, origin=\"lower\")"
   ]
  },
  {
   "cell_type": "code",
   "execution_count": 97,
   "metadata": {},
   "outputs": [
    {
     "data": {
      "text/plain": [
       "array(['N', 'A', 'B2', ..., 'O', 'Q', 'R'], dtype='<U7')"
      ]
     },
     "execution_count": 97,
     "metadata": {},
     "output_type": "execute_result"
    }
   ],
   "source": [
    "np.array(y_labels)"
   ]
  },
  {
   "cell_type": "code",
   "execution_count": 102,
   "metadata": {},
   "outputs": [
    {
     "data": {
      "text/plain": [
       "array(['N', 'J2', 'B1', ..., 'O', 'C', 'R'], dtype='<U2')"
      ]
     },
     "execution_count": 102,
     "metadata": {},
     "output_type": "execute_result"
    }
   ],
   "source": [
    "y_true = np.array([r[0][0] for r in real_labels])\n",
    "y_true"
   ]
  },
  {
   "cell_type": "code",
   "execution_count": 99,
   "metadata": {},
   "outputs": [],
   "source": [
    "v = vocab.tolist()\n",
    "y_l = np.array([v.index(y) for y in y_labels])\n",
    "y_t = np.array([v.index(y) for y in y_true])"
   ]
  },
  {
   "cell_type": "code",
   "execution_count": 100,
   "metadata": {},
   "outputs": [
    {
     "data": {
      "text/plain": [
       "0.477375"
      ]
     },
     "execution_count": 100,
     "metadata": {},
     "output_type": "execute_result"
    }
   ],
   "source": [
    "np.sum(y_l == y_t) / len(y_t)"
   ]
  },
  {
   "cell_type": "code",
   "execution_count": 101,
   "metadata": {},
   "outputs": [],
   "source": [
    "from sklearn.metrics import confusion_matrix\n",
    "import matplotlib.pyplot as plt\n",
    "\n",
    "cm = confusion_matrix(y_l, y_t)"
   ]
  },
  {
   "cell_type": "code",
   "execution_count": 103,
   "metadata": {},
   "outputs": [
    {
     "data": {
      "image/png": "[encoded data removed]",
      "text/plain": [
       "<Figure size 640x480 with 2 Axes>"
      ]
     },
     "metadata": {},
     "output_type": "display_data"
    }
   ],
   "source": [
    "plt.imshow(cm)\n",
    "plt.yticks(range(len(vocab)), vocab)\n",
    "plt.xticks(range(len(vocab)), vocab, rotation=90)\n",
    "plt.gca().xaxis.tick_top()\n",
    "plt.colorbar()\n",
    "plt.show()"
   ]
  },
  {
   "cell_type": "code",
   "execution_count": 1,
   "metadata": {},
   "outputs": [],
   "source": [
    "import dill as pickle\n",
    "\n",
    "with open(\"../../models/decoder/decoder.pkl\", \"rb\") as fp:\n",
    "    model = pickle.load(fp)"
   ]
  },
  {
   "cell_type": "code",
   "execution_count": 2,
   "metadata": {},
   "outputs": [
    {
     "data": {
      "text/plain": [
       "'ESN-0': ESN('Reservoir-0', 'Ridge-0')"
      ]
     },
     "execution_count": 2,
     "metadata": {},
     "output_type": "execute_result"
    }
   ],
   "source": [
    "model"
   ]
  },
  {
   "cell_type": "code",
   "execution_count": 23,
   "metadata": {},
   "outputs": [
    {
     "name": "stderr",
     "output_type": "stream",
     "text": [
      "Running ESN-0: 100%|██████████| 16000/16000 [01:45<00:00, 151.98it/s]\n"
     ]
    }
   ],
   "source": [
    "y_real = model.run(x_real)"
   ]
  },
  {
   "cell_type": "code",
   "execution_count": 35,
   "metadata": {},
   "outputs": [
    {
     "name": "stderr",
     "output_type": "stream",
     "text": [
      "Running ESN-0: 100%|██████████| 2800/2800 [00:17<00:00, 158.38it/s]\n"
     ]
    }
   ],
   "source": [
    "x_test = [np.concatenate(x[1:], axis=1) for x in test_data]\n",
    "\n",
    "y_pred = model.run(x_test)"
   ]
  },
  {
   "cell_type": "code",
   "execution_count": 36,
   "metadata": {},
   "outputs": [
    {
     "data": {
      "text/plain": [
       "['A',\n",
       " 'B1',\n",
       " 'B2',\n",
       " 'C',\n",
       " 'D',\n",
       " 'E',\n",
       " 'EARLY_1120',\n",
       " 'EARLY_184',\n",
       " 'EARLY_2255',\n",
       " 'EARLY_42561',\n",
       " 'EARLY_7370',\n",
       " 'EARLY_7401',\n",
       " 'EARLY_False',\n",
       " 'H',\n",
       " 'J1',\n",
       " 'J2',\n",
       " 'L',\n",
       " 'M',\n",
       " 'N',\n",
       " 'O',\n",
       " 'OT_57765',\n",
       " 'OT_64718',\n",
       " 'OT_79442',\n",
       " 'OT_80795',\n",
       " 'Q',\n",
       " 'R',\n",
       " 'V',\n",
       " 'WN']"
      ]
     },
     "execution_count": 36,
     "metadata": {},
     "output_type": "execute_result"
    }
   ],
   "source": [
    "vocab = dataset.class_labels\n",
    "vocab"
   ]
  },
  {
   "cell_type": "code",
   "execution_count": 37,
   "metadata": {},
   "outputs": [],
   "source": [
    "from scipy.special import softmax\n",
    "\n",
    "y_labels = [vocab[np.argmax(softmax(np.sum(y, axis=0)))] for y in y_pred]"
   ]
  },
  {
   "cell_type": "code",
   "execution_count": 38,
   "metadata": {},
   "outputs": [
    {
     "data": {
      "text/plain": [
       "array(['E', 'EARLY_42561', 'V', ..., 'EARLY_184', 'R', 'EARLY_1120'],\n",
       "      dtype='<U11')"
      ]
     },
     "execution_count": 38,
     "metadata": {},
     "output_type": "execute_result"
    }
   ],
   "source": [
    "np.sum(y_pred, axis=1y_true = np.array([r[0][0] for r in test_labels])\n",
    "y_true"
   ]
  },
  {
   "cell_type": "code",
   "execution_count": 39,
   "metadata": {},
   "outputs": [],
   "source": [
    "v = vocab\n",
    "y_l = np.array([v.index(y) for y in y_labels])\n",
    "y_t = np.array([v.index(y) for y in y_true])"
   ]
  },
  {
   "cell_type": "code",
   "execution_count": 40,
   "metadata": {},
   "outputs": [
    {
     "data": {
      "text/plain": [
       "0.9864285714285714"
      ]
     },
     "execution_count": 40,
     "metadata": {},
     "output_type": "execute_result"
    }
   ],
   "source": [
    "np.sum(y_l == y_t) / len(y_t)"
   ]
  },
  {
   "cell_type": "code",
   "execution_count": 41,
   "metadata": {},
   "outputs": [],
   "source": [
    "from sklearn.metrics import confusion_matrix\n",
    "import matplotlib.pyplot as plt\n",
    "\n",
    "cm = confusion_matrix(y_l, y_t)"
   ]
  },
  {
   "cell_type": "code",
   "execution_count": 43,
   "metadata": {},
   "outputs": [
    {
     "data": {
      "image/png": "[encoded data removed]",
      "text/plain": [
       "<Figure size 640x480 with 2 Axes>"
      ]
     },
     "metadata": {},
     "output_type": "display_data"
    }
   ],
   "source": [
    "plt.imshow(cm)\n",
    "plt.yticks(range(len(vocab)), vocab)\n",
    "plt.xticks(range(len(vocab)), vocab, rotation=90)\n",
    "plt.gca().xaxis.tick_top()\n",
    "plt.colorbar()\n",
    "plt.savefig(\"../../reports/decoder/confusion.png\", bbox_inches=\"tight\")\n",
    "plt.show()"
   ]
  },
  {
   "cell_type": "code",
   "execution_count": null,
   "metadata": {},
   "outputs": [],
   "source": []
  }
 ],
 "metadata": {
  "kernelspec": {
   "display_name": "Python 3 (ipykernel)",
   "language": "python",
   "name": "python3"
  },
  "language_info": {
   "codemirror_mode": {
    "name": "ipython",
    "version": 3
   },
   "file_extension": ".py",
   "mimetype": "text/x-python",
   "name": "python",
   "nbconvert_exporter": "python",
   "pygments_lexer": "ipython3",
   "version": "3.11.8"
  }
 },
 "nbformat": 4,
 "nbformat_minor": 4
}
